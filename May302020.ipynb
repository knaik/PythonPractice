{
 "cells": [
  {
   "cell_type": "markdown",
   "metadata": {},
   "source": [
    "Python internal types: int, float(ee, signed), string, list[], dict{}"
   ]
  },
  {
   "cell_type": "code",
   "execution_count": 12,
   "metadata": {},
   "outputs": [
    {
     "name": "stdout",
     "output_type": "stream",
     "text": [
      "612\n",
      "18\n",
      "18.0\n",
      "12\n",
      "['1', '2', '.', '3']\n"
     ]
    }
   ],
   "source": [
    "#1.2\n",
    "#variable = type(other object val)\n",
    "y = '6'\n",
    "x = '12'\n",
    "print(y+x)\n",
    "print(int(y)+int(x))\n",
    "print(float(y)+float(x))\n",
    "z = 12.3\n",
    "print(int(12.7)) #auto truncate no error.\n",
    "#print(list(z)) error without first converting to array type\n",
    "w = str(z)\n",
    "print(list(w))"
   ]
  },
  {
   "cell_type": "code",
   "execution_count": 33,
   "metadata": {},
   "outputs": [
    {
     "name": "stdout",
     "output_type": "stream",
     "text": [
      "DOMO ARIGATO\n",
      "None\n",
      "None\n",
      "[6, 5, 4, 4, 3, 2, 1]\n"
     ]
    }
   ],
   "source": [
    "#1.3\n",
    "x  = 'domo arigato'\n",
    "print(x.upper())\n",
    "#issuess with list, can't go from string to reverse directly\n",
    "#reversing a list of string just says none\n",
    "#print(list(x).reverse())\n",
    "y = list(x)\n",
    "print(y.reverse())\n",
    "\n",
    "listNumb = [1,2,3,4,4,5,6]\n",
    "listRev = listNumb.reverse()\n",
    "print(listRev) #does reverse in place but assigning doesnt work \n",
    "print(listNumb)"
   ]
  }
 ],
 "metadata": {
  "kernelspec": {
   "display_name": "Python 3",
   "language": "python",
   "name": "python3"
  },
  "language_info": {
   "codemirror_mode": {
    "name": "ipython",
    "version": 3
   },
   "file_extension": ".py",
   "mimetype": "text/x-python",
   "name": "python",
   "nbconvert_exporter": "python",
   "pygments_lexer": "ipython3",
   "version": "3.6.7"
  }
 },
 "nbformat": 4,
 "nbformat_minor": 4
}
