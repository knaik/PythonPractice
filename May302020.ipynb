{
 "cells": [
  {
   "cell_type": "markdown",
   "metadata": {},
   "source": [
    "Python internal types: int, float(ee, signed), string, list[], dict{}"
   ]
  },
  {
   "cell_type": "code",
   "execution_count": 12,
   "metadata": {},
   "outputs": [
    {
     "name": "stdout",
     "output_type": "stream",
     "text": [
      "612\n",
      "18\n",
      "18.0\n",
      "12\n",
      "['1', '2', '.', '3']\n"
     ]
    }
   ],
   "source": [
    "#1.2\n",
    "#variable = type(other object val)\n",
    "y = '6'\n",
    "x = '12'\n",
    "print(y+x)\n",
    "print(int(y)+int(x))\n",
    "print(float(y)+float(x))\n",
    "z = 12.3\n",
    "print(int(12.7)) #auto truncate no error.\n",
    "#print(list(z)) error without first converting to array type\n",
    "w = str(z)\n",
    "print(list(w))"
   ]
  },
  {
   "cell_type": "code",
   "execution_count": 36,
   "metadata": {},
   "outputs": [
    {
     "name": "stdout",
     "output_type": "stream",
     "text": [
      "DOMO ARIGATO\n",
      "None\n",
      "None\n",
      "[6, 5, 4, 4, 3, 2, 1]\n"
     ]
    }
   ],
   "source": [
    "#1.3\n",
    "x  = 'domo arigato'\n",
    "print(x.upper())\n",
    "#issuess with list, can't go from string to reverse directly\n",
    "#reversing a list of string just says none\n",
    "#print(list(x).reverse())\n",
    "y = list(x)\n",
    "print(y.reverse())\n",
    "\n",
    "listNumb = [1,2,3,4,4,5,6]\n",
    "listRev = listNumb.reverse()\n",
    "print(listRev) #does reverse in place but assigning doesnt work \n",
    "print(listNumb)"
   ]
  },
  {
   "cell_type": "code",
   "execution_count": 44,
   "metadata": {},
   "outputs": [],
   "source": [
    "#1.4 implementing a class\n",
    "#seems like you pass in what you want to change or access\n",
    "\n",
    "class Dog:\n",
    "    def __init__(self, name, month, day, year, speakText):\n",
    "        self.name = name\n",
    "        self.month = month\n",
    "        self.day = day\n",
    "        self.year = year\n",
    "        self.speakText = speakText #spken response, not method\n",
    "    \n",
    "    def speak(self): #don't have to return type? miss that\n",
    "        return self.speakText\n",
    "    \n",
    "    def getName(self): #getter\n",
    "        return self.name\n",
    "        \n",
    "    def birthDate(self):\n",
    "        return str(self.month) + \" \" + str(self.day) + \" \" + str(self.year)\n",
    "     \n",
    "        #setter\n",
    "    def changeBark(self,bark): #confused about what's being passed in\n",
    "        self.speakText = bark #why do we we need self.bark in paramtere\n",
    "        \n",
    "    def __add__(self,otherDog):\n",
    "        return Dog(\"Puppy of \" + self.name + \" and \" + otherDog.name, self.month, self.day, self.year+1, self.speakText+otherDog.speakText)\n",
    "    \n",
    "    "
   ]
  },
  {
   "cell_type": "code",
   "execution_count": 52,
   "metadata": {},
   "outputs": [
    {
     "name": "stdout",
     "output_type": "stream",
     "text": [
      "Bow wow\n",
      "Hasta la Vista\n",
      "Hasta la Vistayippie ki yay\n"
     ]
    }
   ],
   "source": [
    "#def main():\n",
    "## if __name__ == \"__main__\":\n",
    "##    main()\n",
    "boyDog = Dog(\"Mesa\", 5, 15, 2004, \"Bow wow\")\n",
    "girlDog = Dog(\"Sasquatch\", 5, 6, 2004, \"yippie ki yay\")\n",
    "print(boyDog.speak())\n",
    "boyDog.changeBark(\"Hasta la Vista\")\n",
    "print(boyDog.speak())\n",
    "puppy = boyDog + girlDog\n",
    "print(puppy.speak())"
   ]
  },
  {
   "cell_type": "markdown",
   "metadata": {},
   "source": [
    "oeprator magic table\n",
    "\n",
    "| method | operator | description |\n",
    "| ------ | -------- | ------------ | \n",
    "| ```__add__(self,y)``` | x + y | the addition of two objects |\n",
    "| ```__contains__(self,y)``` | y in x | when x is a collection you can test to see if y is in the collectin |\n",
    "| ``` __eq__(self,y) ``` | y == x or java .isqual() | returns boolean on the vals of x y |\n",
    "| ```__gq__(self, y)```| x >= y | tests if greater than or eq to |\n",
    "| ```__getitem__(self,y)```|x[y]| returns yth item in x|\n",
    "| ```__gt__(self,y)```|||\n",
    "| ```__hash__(self)```|||"
   ]
  }
 ],
 "metadata": {
  "kernelspec": {
   "display_name": "Python 3",
   "language": "python",
   "name": "python3"
  },
  "language_info": {
   "codemirror_mode": {
    "name": "ipython",
    "version": 3
   },
   "file_extension": ".py",
   "mimetype": "text/x-python",
   "name": "python",
   "nbconvert_exporter": "python",
   "pygments_lexer": "ipython3",
   "version": "3.6.7"
  }
 },
 "nbformat": 4,
 "nbformat_minor": 4
}
