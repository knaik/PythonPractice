{
 "cells": [
  {
   "cell_type": "markdown",
   "metadata": {},
   "source": [
    "March 20th\n",
    "Today’s exercise is somebody’s homework:\n",
    "\n",
    "Write a program that displays the digits from 1 to n then back down to 1; for instance, if n = 5, the program should display 123454321. You are permitted to use only a single for loop.\n",
    "\n",
    "The questioner did not specify what should happen when n reaches 10, so we will specify 0 < n < 10.\n"
   ]
  },
  {
   "cell_type": "code",
   "execution_count": 5,
   "metadata": {},
   "outputs": [],
   "source": [
    "#No Loops using single multiplication calculation\n",
    "def hwOne(n):\n",
    "    return int(\"1\" * n)**2\n",
    " \n",
    "#Single loop\n",
    "def hwTwo(n):\n",
    "    temp = []\n",
    "    for i in range(1,2*n):\n",
    "        if(i<n+1):\n",
    "            temp.append(i)\n",
    "        else:\n",
    "            temp.append(2*n-i)\n",
    "    return temp"
   ]
  }
 ],
 "metadata": {
  "kernelspec": {
   "display_name": "Python 3",
   "language": "python",
   "name": "python3"
  },
  "language_info": {
   "codemirror_mode": {
    "name": "ipython",
    "version": 3
   },
   "file_extension": ".py",
   "mimetype": "text/x-python",
   "name": "python",
   "nbconvert_exporter": "python",
   "pygments_lexer": "ipython3",
   "version": "3.6.8-final"
  }
 },
 "nbformat": 4,
 "nbformat_minor": 4
}